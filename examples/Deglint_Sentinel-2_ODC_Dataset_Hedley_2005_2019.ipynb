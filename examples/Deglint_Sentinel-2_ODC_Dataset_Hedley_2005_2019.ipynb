{
 "cells": [
  {
   "cell_type": "markdown",
   "metadata": {},
   "source": [
    "# Deglinting a Sentinel-2 granule\n",
    "\n",
    "This notebook demonstrates the different deglinting approaches using the Hedley method:\n",
    "\n",
    "* Hedley et al., 2005 (correlation approach)\n",
    "* Hedley et al., 2019 (using specific bands for different resolution groups)"
   ]
  },
  {
   "cell_type": "code",
   "execution_count": 1,
   "metadata": {},
   "outputs": [],
   "source": [
    "from pathlib import Path\n",
    "import tempfile\n",
    "import numpy\n",
    "import matplotlib.pyplot as plt\n",
    "import rasterio\n",
    "import datacube\n",
    "from sungc import deglint, visualise\n",
    "from sungc import rasterio_funcs as rf"
   ]
  },
  {
   "cell_type": "code",
   "execution_count": 2,
   "metadata": {},
   "outputs": [],
   "source": [
    "dc = datacube.Datacube(env=\"water-atcor\", config=\"/g/data/r78/dea-atmospheric-correction-over-water/datacube.conf\")"
   ]
  },
  {
   "cell_type": "code",
   "execution_count": 3,
   "metadata": {},
   "outputs": [],
   "source": [
    "query = {\n",
    "    \"product\": \"ga_s2am_aard_2\",\n",
    "    \"region_code\": \"55HBT\",\n",
    "    \"time\": (\"2017-04-17\", \"2017-04-19\")\n",
    "}"
   ]
  },
  {
   "cell_type": "markdown",
   "metadata": {},
   "source": [
    "The `sungc` module enables a user to supply an opendatacube `Dataset` object as returned by `find_datasets`.  The premise is that deglinting is more robust prior to resampling as opposed to resampling upfront that generally occur when using `dc.load`."
   ]
  },
  {
   "cell_type": "code",
   "execution_count": 4,
   "metadata": {},
   "outputs": [],
   "source": [
    "dataset = dc.find_datasets(**query)[0]"
   ]
  },
  {
   "cell_type": "markdown",
   "metadata": {},
   "source": [
    "The `ga_s2am_aard_2` product is comprised of the following sub-products:\n",
    "\n",
    "* lmbskyg `lambertian sky glint corrected`\n",
    "* oa `observation attributes`\n",
    "\n",
    "In the same way that the `ga_ls8c_ard_3` product which contains the following sub-products:\n",
    "\n",
    "* nbar `nadir corrected brdf adjusted reflectance\n",
    "* nbart `nadir corrected brdf adjusted reflectance terrain illumination correction\n",
    "* oa `observation attributes`"
   ]
  },
  {
   "cell_type": "code",
   "execution_count": 5,
   "metadata": {},
   "outputs": [],
   "source": [
    "sub_product = \"lmbskyg\"\n",
    "g = deglint.GlintCorr(dataset, sub_product)"
   ]
  },
  {
   "cell_type": "markdown",
   "metadata": {},
   "source": [
    "We'll save the generated Region Of Interest (ROI) for use later on"
   ]
  },
  {
   "cell_type": "code",
   "execution_count": 6,
   "metadata": {},
   "outputs": [],
   "source": [
    "tempdir = tempfile.TemporaryDirectory(\".tmp\", \"ROI-\")\n",
    "roi_out_fname = Path(tempdir.name).joinpath(\"deep-water-ROI.shp\")"
   ]
  },
  {
   "cell_type": "markdown",
   "metadata": {},
   "source": [
    "## Hedley 2005\n",
    "The Hedley method requires a Region Of Interest to be selected (or provided) that contains both deep water and sun glint affected pixels.\n",
    "This version is using Band-8 to deglint bands 1-5."
   ]
  },
  {
   "cell_type": "code",
   "execution_count": 7,
   "metadata": {
    "scrolled": false
   },
   "outputs": [
    {
     "name": "stdout",
     "output_type": "stream",
     "text": [
      "Using matplotlib backend: Qt5Agg\n"
     ]
    }
   ],
   "source": [
    "%matplotlib\n",
    "hedley_xarr = g.hedley_2005(\n",
    "    vis_bands=[\"1\", \"2\", \"3\", \"4\", \"5\"],\n",
    "    corr_band=\"8\",\n",
    "    roi_shpfile=roi_out_fname,\n",
    "    water_val=5\n",
    ")"
   ]
  },
  {
   "cell_type": "markdown",
   "metadata": {},
   "source": [
    "A list of 3 `xarray.Dataset` objects for each of the resolution groups of Sentinel-2\n",
    "\n",
    "* 60 metres\n",
    "* 10 metres\n",
    "* 20 metres"
   ]
  },
  {
   "cell_type": "code",
   "execution_count": 8,
   "metadata": {},
   "outputs": [
    {
     "data": {
      "text/plain": [
       "[<xarray.Dataset>\n",
       " Dimensions:                  (time: 1, x: 1830, y: 1830)\n",
       " Coordinates:\n",
       "   * time                     (time) datetime64[ns] 2017-04-18T00:12:56.756000\n",
       "     lat                      (y, x) float64 5.8e+06 5.8e+06 ... 5.69e+06\n",
       "     lon                      (y, x) float64 2e+05 2.001e+05 ... 3.098e+05\n",
       " Dimensions without coordinates: x, y\n",
       " Data variables:\n",
       "     lmbskyg_coastal_aerosol  (time, y, x) int16 -999 -999 -999 ... 298 289 277\n",
       " Attributes:\n",
       "     deglint_algorithm:  Hedley et al. (2005)\n",
       "     spatial_res:        60.0\n",
       "     transform:          | 60.00, 0.00, 199980.00|\\n| 0.00,-60.00, 5800000.00|...\n",
       "     crs:                EPSG:32755,\n",
       " <xarray.Dataset>\n",
       " Dimensions:        (time: 1, x: 10980, y: 10980)\n",
       " Coordinates:\n",
       "   * time           (time) datetime64[ns] 2017-04-18T00:12:56.756000\n",
       "     lat            (y, x) float64 5.8e+06 5.8e+06 5.8e+06 ... 5.69e+06 5.69e+06\n",
       "     lon            (y, x) float64 2e+05 2e+05 2e+05 ... 3.098e+05 3.098e+05\n",
       " Dimensions without coordinates: x, y\n",
       " Data variables:\n",
       "     lmbskyg_blue   (time, y, x) int16 -999 -999 -999 -999 ... 155 175 178 166\n",
       "     lmbskyg_green  (time, y, x) int16 -999 -999 -999 -999 -999 ... 32 36 35 50\n",
       "     lmbskyg_red    (time, y, x) int16 -999 -999 -999 -999 -999 ... 19 18 26 17\n",
       " Attributes:\n",
       "     deglint_algorithm:  Hedley et al. (2005)\n",
       "     spatial_res:        10.0\n",
       "     transform:          | 10.00, 0.00, 199980.00|\\n| 0.00,-10.00, 5800000.00|...\n",
       "     crs:                EPSG:32755,\n",
       " <xarray.Dataset>\n",
       " Dimensions:             (time: 1, x: 5490, y: 5490)\n",
       " Coordinates:\n",
       "   * time                (time) datetime64[ns] 2017-04-18T00:12:56.756000\n",
       "     lat                 (y, x) float64 5.8e+06 5.8e+06 ... 5.69e+06 5.69e+06\n",
       "     lon                 (y, x) float64 2e+05 2e+05 2e+05 ... 3.098e+05 3.098e+05\n",
       " Dimensions without coordinates: x, y\n",
       " Data variables:\n",
       "     lmbskyg_red_edge_1  (time, y, x) int16 -999 -999 -999 ... -320 -317 -318\n",
       " Attributes:\n",
       "     deglint_algorithm:  Hedley et al. (2005)\n",
       "     spatial_res:        20.0\n",
       "     transform:          | 20.00, 0.00, 199980.00|\\n| 0.00,-20.00, 5800000.00|...\n",
       "     crs:                EPSG:32755]"
      ]
     },
     "execution_count": 8,
     "metadata": {},
     "output_type": "execute_result"
    }
   ],
   "source": [
    "hedley_xarr"
   ]
  },
  {
   "cell_type": "markdown",
   "metadata": {},
   "source": [
    "## Hedley et al. 2019\n",
    "An alternate method for deglinting Sentinel-2 was proposed using the following bands:\n",
    "\n",
    "* Band 9 to deglint Band 1 (both at 60 m)\n",
    "* Band 7 to deglint Band 5 (20 m resolution)\n",
    "* Band 8 to deglint Bands 2, 3 and 4 (10 m resolution)\n",
    "\n",
    "As Band-9 isn't produced as part of the `ga_s2am_aard_2` and `ga_s2bm_aard_2` products due to the significant influence that water vapour has on the radiative transfer for Band-9, Band-8 can be used instead."
   ]
  },
  {
   "cell_type": "code",
   "execution_count": 9,
   "metadata": {},
   "outputs": [],
   "source": [
    "xarr_60m = g.hedley_2005(\n",
    "    vis_bands=[\"1\"],\n",
    "    corr_band=\"8a\",\n",
    "    roi_shpfile=roi_out_fname,\n",
    "    water_val=5\n",
    ")[0]"
   ]
  },
  {
   "cell_type": "code",
   "execution_count": 10,
   "metadata": {},
   "outputs": [],
   "source": [
    "xarr_20m = g.hedley_2005(\n",
    "    vis_bands=[\"5\"],\n",
    "    corr_band=\"7\",\n",
    "    roi_shpfile=roi_out_fname,\n",
    "    water_val=5\n",
    ")[0]"
   ]
  },
  {
   "cell_type": "code",
   "execution_count": 11,
   "metadata": {},
   "outputs": [],
   "source": [
    "xarr_10m = g.hedley_2005(\n",
    "    vis_bands=[\"2\", \"3\", \"4\"],\n",
    "    corr_band=\"8\",\n",
    "    roi_shpfile=roi_out_fname,\n",
    "    water_val=5\n",
    ")[0]"
   ]
  },
  {
   "cell_type": "code",
   "execution_count": null,
   "metadata": {},
   "outputs": [],
   "source": []
  }
 ],
 "metadata": {
  "kernelspec": {
   "display_name": "Python 3",
   "language": "python",
   "name": "python3"
  },
  "language_info": {
   "codemirror_mode": {
    "name": "ipython",
    "version": 3
   },
   "file_extension": ".py",
   "mimetype": "text/x-python",
   "name": "python",
   "nbconvert_exporter": "python",
   "pygments_lexer": "ipython3",
   "version": "3.6.10"
  }
 },
 "nbformat": 4,
 "nbformat_minor": 4
}
